{
 "cells": [
  {
   "cell_type": "code",
   "metadata": {
    "collapsed": false
   },
   "source": [
    "from typing import List\n",
    "import xmlrpc.client\n",
    "import socket\n",
    "from bs4 import BeautifulSoup\n",
    "import requests\n",
    "from pathlib import Path\n",
    "\n",
    "\n",
    "class RPCSender(object):\n",
    "    def __init__(self, server_url: str, token: str, download_root_path: str):\n",
    "        self.server_proxy = xmlrpc.client.ServerProxy(server_url)\n",
    "        self.token = token\n",
    "        self.download_root_path = download_root_path\n",
    "        self.test_connection()\n",
    "\n",
    "    def test_connection(self):\n",
    "        try:\n",
    "            version = self.server_proxy.aria2.getVersion(\"token:\" + self.token)\n",
    "            print(f\"Connected to server. Version: {version['version']}\")\n",
    "        except socket.timeout:\n",
    "            print(\"Connection to server timed out.\")\n",
    "        except Exception as e:\n",
    "            print(f\"Failed to connect to server: {e}\")\n",
    "\n",
    "    def download_url(self, url: str):\n",
    "        options = {\"dir\": f\"{self.download_root_path}/{Path(url).parent.parent.parent.name}\",\n",
    "                   \"out\": Path(url).name.split(\"?download=true\")[0]}\n",
    "        gid = self.server_proxy.aria2.addUri(\"token:\" + self.token, [url], options)\n",
    "        print(f\"Download started with GID: {gid}\")\n",
    "\n",
    "    def download_urls(self, urls: List[str]):\n",
    "        for url in urls:\n",
    "            self.download_url(url)\n",
    "\n",
    "\n",
    "def get_hub(url):\n",
    "    url_cut = url.split('https://huggingface.co')[-1].replace('tree', 'resolve')\n",
    "    response = requests.get(url)\n",
    "    soup = BeautifulSoup(response.content, \"html.parser\")\n",
    "\n",
    "    file_links = []\n",
    "\n",
    "    for link in soup.find_all(\"a\"):\n",
    "        href = link.get(\"href\")\n",
    "        if href.startswith(url_cut):\n",
    "            file_links.append(f\"https://huggingface.co{href}\")\n",
    "    for fl in file_links:\n",
    "        print(fl)\n",
    "    return file_links"
   ],
   "outputs": [],
   "execution_count": null
  },
  {
   "metadata": {},
   "cell_type": "code",
   "outputs": [],
   "execution_count": null,
   "source": [
    "server_url = \"http://localhost:19628/rpc\"\n",
    "token = '113113'\n",
    "root_path = \"f:/downloads\"\n",
    "model_id = \"THUDM/chatglm2-6b\"\n",
    "rpc = RPCSender(server_url, token, download_root_path=root_path)"
   ]
  },
  {
   "cell_type": "code",
   "metadata": {
    "collapsed": false
   },
   "source": "download_urls = get_hub(f\"https://huggingface.co/{model_id}/tree/main\")",
   "outputs": [],
   "execution_count": null
  },
  {
   "metadata": {},
   "cell_type": "code",
   "source": "rpc.download_urls(urls=download_urls)",
   "outputs": [],
   "execution_count": null
  },
  {
   "metadata": {},
   "cell_type": "code",
   "source": [
    "# 选择下载\n",
    "rpc.download_urls(urls=[\n",
    "    # \"https://huggingface.co/MaziyarPanahi/gemma-2b-it-GGUF/resolve/main/gemma-2b-it.Q2_K.gguf?download=true\",\n",
    "    \"https://huggingface.co/MaziyarPanahi/gemma-2b-it-GGUF/resolve/main/gemma-2b-it.Q3_K_M.gguf?download=true\",\n",
    "    \"https://huggingface.co/MaziyarPanahi/gemma-2b-it-GGUF/resolve/main/gemma-2b-it.Q4_K_M.gguf?download=true\"\n",
    "])"
   ],
   "outputs": [],
   "execution_count": null
  }
 ],
 "metadata": {
  "kernelspec": {
   "display_name": "Python 3",
   "language": "python",
   "name": "python3"
  },
  "language_info": {
   "codemirror_mode": {
    "name": "ipython",
    "version": 3
   },
   "file_extension": ".py",
   "mimetype": "text/x-python",
   "name": "python",
   "nbconvert_exporter": "python",
   "pygments_lexer": "ipython3",
   "version": "3.8.13"
  }
 },
 "nbformat": 4,
 "nbformat_minor": 0
}
